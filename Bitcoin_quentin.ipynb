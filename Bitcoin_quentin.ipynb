{
 "cells": [
  {
   "cell_type": "code",
   "execution_count": 11,
   "metadata": {
    "collapsed": false
   },
   "outputs": [],
   "source": [
    "import pandas as pd\n",
    "import numpy as np\n",
    "import matplotlib.pyplot as plt\n",
    "import os\n",
    "import quandl\n",
    "from sklearn.linear_model import LogisticRegression\n",
    "from sklearn.feature_selection import SelectFromModel\n",
    "from sklearn.ensemble import RandomForestClassifier\n",
    "from sklearn.model_selection import GridSearchCV\n",
    "from sklearn.preprocessing import MinMaxScaler\n",
    "import numpy as np\n",
    "from pandas.tseries.offsets import *\n",
    "from sklearn.model_selection import TimeSeriesSplit\n",
    "from sklearn.metrics import confusion_matrix\n",
    "from sklearn.metrics import accuracy_score\n",
    "import itertools\n",
    "from keras.models import Sequential\n",
    "from keras.layers import Activation, Dense\n",
    "from keras.layers import LSTM\n",
    "from keras.layers import Dropout"
   ]
  },
  {
   "cell_type": "markdown",
   "metadata": {},
   "source": [
    "### import data"
   ]
  },
  {
   "cell_type": "code",
   "execution_count": 42,
   "metadata": {
    "collapsed": true
   },
   "outputs": [],
   "source": [
    "#import dataset\n",
    "df_features = pd.read_csv('df_features.csv', index_col = [0])\n",
    "df_target = pd.read_csv('target_q.csv', index_col = [0])"
   ]
  },
  {
   "cell_type": "code",
   "execution_count": 43,
   "metadata": {
    "collapsed": true
   },
   "outputs": [],
   "source": [
    "#set dataset\n",
    "df_target.index = pd.to_datetime(df_target.index)\n",
    "df_features.index = pd.to_datetime(df_features.index)\n"
   ]
  },
  {
   "cell_type": "code",
   "execution_count": 44,
   "metadata": {
    "collapsed": true
   },
   "outputs": [],
   "source": [
    "#choose target value for the target vector\n",
    "df_target = df_target['Mkt_State']"
   ]
  },
  {
   "cell_type": "markdown",
   "metadata": {},
   "source": [
    "### Useful functions"
   ]
  },
  {
   "cell_type": "code",
   "execution_count": 46,
   "metadata": {
    "collapsed": false
   },
   "outputs": [],
   "source": [
    "#normalize the features dataframe\n",
    "scaler = MinMaxScaler() \n",
    "scaled_values = scaler.fit_transform(df_features) \n",
    "df_features.loc[:,:] = scaled_values"
   ]
  },
  {
   "cell_type": "code",
   "execution_count": 15,
   "metadata": {
    "collapsed": true
   },
   "outputs": [],
   "source": [
    "#get the same index as the features vector for the target\n",
    "def set_index(features, target):\n",
    "    \n",
    "    #remove the too many index at the end\n",
    "    time_delta = int((features.index[-1] - target.index[-1]).days)\n",
    "    target_bis = target[:time_delta]\n",
    "    \n",
    "    print('delta removed: '+ str(- time_delta))\n",
    "    return target_bis"
   ]
  },
  {
   "cell_type": "code",
   "execution_count": 45,
   "metadata": {
    "collapsed": false
   },
   "outputs": [
    {
     "name": "stdout",
     "output_type": "stream",
     "text": [
      "delta removed: 7\n"
     ]
    }
   ],
   "source": [
    "df_target = set_index(df_features, df_target)"
   ]
  },
  {
   "cell_type": "code",
   "execution_count": 94,
   "metadata": {
    "collapsed": true
   },
   "outputs": [],
   "source": [
    "def forward_cv(train, target):\n",
    "    n_train = 500\n",
    "    n_records = train.shape[0] - 10\n",
    "    clf = LogisticRegression()\n",
    "    cv_score = 0\n",
    "    for i in range(n_train, n_records):\n",
    "        train, cv = train[0:i], train[i:i+1]\n",
    "        clf.fit(train, target[0:i])\n",
    "        cv_score = cv_score + accuracy_score(clf.predict(cv), target[i:i+1])\n",
    "        print(\"train:\",str(train.shape[0]), \"test:\",str(cv.shape[0]),\"cv_score:\",str(cv_score))\n",
    "    return(clf.param_, cv_score)\n"
   ]
  },
  {
   "cell_type": "code",
   "execution_count": 47,
   "metadata": {
    "collapsed": false
   },
   "outputs": [],
   "source": [
    "# create train and test sets\n",
    "test = df_features.iloc[-10:]\n",
    "X_train = df_features[:-10]\n",
    "test_label = df_target[-10:]\n",
    "Y_train = df_target[:-10]"
   ]
  },
  {
   "cell_type": "code",
   "execution_count": 33,
   "metadata": {
    "collapsed": false
   },
   "outputs": [],
   "source": [
    "training = df_features.values.reshape((df_features.shape[0],1, df_features.shape[1]))\n",
    "testing = test.values.reshape((test.shape[0],1, test.shape[1]))"
   ]
  },
  {
   "cell_type": "code",
   "execution_count": 60,
   "metadata": {
    "collapsed": false
   },
   "outputs": [],
   "source": [
    "n_features = X_train.shape[1]\n",
    "n_samples  = X_train.shape[0]\n",
    "timesteps = 1\n",
    "model = Sequential()\n",
    "model.add(LSTM(n_samples, input_shape = (timesteps,n_features)))\n",
    "model.add(Dense(timesteps))\n",
    "model.add(Activation('sigmoid'))"
   ]
  },
  {
   "cell_type": "code",
   "execution_count": 61,
   "metadata": {
    "collapsed": false
   },
   "outputs": [],
   "source": [
    "model.compile(optimizer = 'adam', loss = \"binary_crossentropy\", metrics = [\"accuracy\"])"
   ]
  },
  {
   "cell_type": "code",
   "execution_count": null,
   "metadata": {
    "collapsed": false
   },
   "outputs": [
    {
     "name": "stdout",
     "output_type": "stream",
     "text": [
      "Epoch 1/1000\n",
      " - 3s - loss: 0.6770 - acc: 0.5738\n",
      "Epoch 2/1000\n",
      " - 3s - loss: 0.6769 - acc: 0.5722\n",
      "Epoch 3/1000\n",
      " - 3s - loss: 0.6768 - acc: 0.5733\n",
      "Epoch 4/1000\n",
      " - 3s - loss: 0.6767 - acc: 0.5738\n",
      "Epoch 5/1000\n",
      " - 4s - loss: 0.6766 - acc: 0.5744\n",
      "Epoch 6/1000\n",
      " - 3s - loss: 0.6766 - acc: 0.5722\n",
      "Epoch 7/1000\n",
      " - 4s - loss: 0.6765 - acc: 0.5722\n",
      "Epoch 8/1000\n",
      " - 4s - loss: 0.6764 - acc: 0.5722\n",
      "Epoch 9/1000\n",
      " - 4s - loss: 0.6763 - acc: 0.5722\n",
      "Epoch 10/1000\n",
      " - 4s - loss: 0.6762 - acc: 0.5717\n",
      "Epoch 11/1000\n",
      " - 5s - loss: 0.6761 - acc: 0.5706\n",
      "Epoch 12/1000\n",
      " - 5s - loss: 0.6760 - acc: 0.5706\n",
      "Epoch 13/1000\n",
      " - 5s - loss: 0.6760 - acc: 0.5700\n",
      "Epoch 14/1000\n",
      " - 4s - loss: 0.6759 - acc: 0.5700\n",
      "Epoch 15/1000\n",
      " - 4s - loss: 0.6758 - acc: 0.5679\n",
      "Epoch 16/1000\n",
      " - 5s - loss: 0.6757 - acc: 0.5684\n",
      "Epoch 17/1000\n",
      " - 5s - loss: 0.6757 - acc: 0.5679\n",
      "Epoch 18/1000\n",
      " - 4s - loss: 0.6756 - acc: 0.5679\n",
      "Epoch 19/1000\n",
      " - 4s - loss: 0.6755 - acc: 0.5679\n",
      "Epoch 20/1000\n",
      " - 4s - loss: 0.6755 - acc: 0.5668\n",
      "Epoch 21/1000\n",
      " - 5s - loss: 0.6754 - acc: 0.5673\n",
      "Epoch 22/1000\n",
      " - 4s - loss: 0.6754 - acc: 0.5673\n",
      "Epoch 23/1000\n",
      " - 4s - loss: 0.6753 - acc: 0.5662\n",
      "Epoch 24/1000\n",
      " - 4s - loss: 0.6753 - acc: 0.5662\n",
      "Epoch 25/1000\n",
      " - 4s - loss: 0.6752 - acc: 0.5662\n",
      "Epoch 26/1000\n",
      " - 4s - loss: 0.6752 - acc: 0.5662\n",
      "Epoch 27/1000\n",
      " - 4s - loss: 0.6751 - acc: 0.5679\n",
      "Epoch 28/1000\n",
      " - 5s - loss: 0.6751 - acc: 0.5679\n",
      "Epoch 29/1000\n",
      " - 5s - loss: 0.6751 - acc: 0.5684\n",
      "Epoch 30/1000\n",
      " - 4s - loss: 0.6750 - acc: 0.5657\n",
      "Epoch 31/1000\n",
      " - 4s - loss: 0.6750 - acc: 0.5651\n",
      "Epoch 32/1000\n",
      " - 4s - loss: 0.6749 - acc: 0.5662\n",
      "Epoch 33/1000\n",
      " - 4s - loss: 0.6749 - acc: 0.5684\n",
      "Epoch 34/1000\n",
      " - 4s - loss: 0.6749 - acc: 0.5684\n",
      "Epoch 35/1000\n",
      " - 7s - loss: 0.6748 - acc: 0.5689\n",
      "Epoch 36/1000\n",
      " - 5s - loss: 0.6748 - acc: 0.5700\n",
      "Epoch 37/1000\n",
      " - 4s - loss: 0.6748 - acc: 0.5711\n",
      "Epoch 38/1000\n",
      " - 5s - loss: 0.6747 - acc: 0.5717\n",
      "Epoch 39/1000\n",
      " - 5s - loss: 0.6747 - acc: 0.5727\n",
      "Epoch 40/1000\n",
      " - 5s - loss: 0.6747 - acc: 0.5722\n",
      "Epoch 41/1000\n",
      " - 4s - loss: 0.6747 - acc: 0.5717\n",
      "Epoch 42/1000\n",
      " - 4s - loss: 0.6746 - acc: 0.5717\n",
      "Epoch 43/1000\n",
      " - 4s - loss: 0.6746 - acc: 0.5711\n",
      "Epoch 44/1000\n",
      " - 5s - loss: 0.6746 - acc: 0.5717\n",
      "Epoch 45/1000\n",
      " - 4s - loss: 0.6745 - acc: 0.5711\n",
      "Epoch 46/1000\n",
      " - 4s - loss: 0.6745 - acc: 0.5722\n",
      "Epoch 47/1000\n",
      " - 4s - loss: 0.6745 - acc: 0.5684\n",
      "Epoch 48/1000\n",
      " - 4s - loss: 0.6745 - acc: 0.5711\n",
      "Epoch 49/1000\n",
      " - 4s - loss: 0.6744 - acc: 0.5668\n",
      "Epoch 50/1000\n",
      " - 4s - loss: 0.6744 - acc: 0.5695\n",
      "Epoch 51/1000\n",
      " - 4s - loss: 0.6744 - acc: 0.5684\n",
      "Epoch 52/1000\n",
      " - 4s - loss: 0.6743 - acc: 0.5695\n",
      "Epoch 53/1000\n",
      " - 4s - loss: 0.6743 - acc: 0.5684\n",
      "Epoch 54/1000\n",
      " - 5s - loss: 0.6743 - acc: 0.5684\n",
      "Epoch 55/1000\n",
      " - 4s - loss: 0.6743 - acc: 0.5695\n",
      "Epoch 56/1000\n",
      " - 4s - loss: 0.6742 - acc: 0.5684\n",
      "Epoch 57/1000\n",
      " - 5s - loss: 0.6742 - acc: 0.5673\n",
      "Epoch 58/1000\n",
      " - 5s - loss: 0.6742 - acc: 0.5684\n",
      "Epoch 59/1000\n",
      " - 5s - loss: 0.6742 - acc: 0.5689\n",
      "Epoch 60/1000\n",
      " - 5s - loss: 0.6741 - acc: 0.5684\n",
      "Epoch 61/1000\n",
      " - 4s - loss: 0.6741 - acc: 0.5662\n",
      "Epoch 62/1000\n",
      " - 4s - loss: 0.6741 - acc: 0.5684\n",
      "Epoch 63/1000\n",
      " - 4s - loss: 0.6740 - acc: 0.5679\n",
      "Epoch 64/1000\n",
      " - 4s - loss: 0.6740 - acc: 0.5684\n",
      "Epoch 65/1000\n",
      " - 4s - loss: 0.6740 - acc: 0.5657\n",
      "Epoch 66/1000\n",
      " - 4s - loss: 0.6740 - acc: 0.5657\n",
      "Epoch 67/1000\n",
      " - 4s - loss: 0.6739 - acc: 0.5684\n",
      "Epoch 68/1000\n",
      " - 4s - loss: 0.6739 - acc: 0.5673\n",
      "Epoch 69/1000\n",
      " - 4s - loss: 0.6739 - acc: 0.5689\n",
      "Epoch 70/1000\n",
      " - 4s - loss: 0.6738 - acc: 0.5679\n",
      "Epoch 71/1000\n",
      " - 4s - loss: 0.6738 - acc: 0.5662\n",
      "Epoch 72/1000\n",
      " - 4s - loss: 0.6738 - acc: 0.5695\n",
      "Epoch 73/1000\n",
      " - 4s - loss: 0.6738 - acc: 0.5657\n",
      "Epoch 74/1000\n",
      " - 4s - loss: 0.6737 - acc: 0.5695\n",
      "Epoch 75/1000\n",
      " - 4s - loss: 0.6737 - acc: 0.5695\n",
      "Epoch 76/1000\n",
      " - 4s - loss: 0.6737 - acc: 0.5673\n",
      "Epoch 77/1000\n",
      " - 4s - loss: 0.6736 - acc: 0.5700\n",
      "Epoch 78/1000\n",
      " - 4s - loss: 0.6736 - acc: 0.5679\n",
      "Epoch 79/1000\n",
      " - 4s - loss: 0.6736 - acc: 0.5684\n",
      "Epoch 80/1000\n",
      " - 4s - loss: 0.6735 - acc: 0.5684\n",
      "Epoch 81/1000\n",
      " - 4s - loss: 0.6735 - acc: 0.5689\n",
      "Epoch 82/1000\n",
      " - 4s - loss: 0.6735 - acc: 0.5684\n",
      "Epoch 83/1000\n",
      " - 4s - loss: 0.6734 - acc: 0.5700\n",
      "Epoch 84/1000\n",
      " - 4s - loss: 0.6734 - acc: 0.5684\n",
      "Epoch 85/1000\n",
      " - 4s - loss: 0.6734 - acc: 0.5706\n",
      "Epoch 86/1000\n",
      " - 4s - loss: 0.6733 - acc: 0.5706\n",
      "Epoch 87/1000\n",
      " - 4s - loss: 0.6733 - acc: 0.5700\n",
      "Epoch 88/1000\n",
      " - 4s - loss: 0.6733 - acc: 0.5733\n",
      "Epoch 89/1000\n",
      " - 4s - loss: 0.6732 - acc: 0.5700\n",
      "Epoch 90/1000\n",
      " - 4s - loss: 0.6732 - acc: 0.5733\n",
      "Epoch 91/1000\n",
      " - 4s - loss: 0.6732 - acc: 0.5717\n",
      "Epoch 92/1000\n",
      " - 4s - loss: 0.6731 - acc: 0.5727\n",
      "Epoch 93/1000\n",
      " - 4s - loss: 0.6731 - acc: 0.5722\n",
      "Epoch 94/1000\n",
      " - 4s - loss: 0.6730 - acc: 0.5727\n",
      "Epoch 95/1000\n",
      " - 4s - loss: 0.6730 - acc: 0.5727\n",
      "Epoch 96/1000\n",
      " - 4s - loss: 0.6730 - acc: 0.5711\n",
      "Epoch 97/1000\n",
      " - 4s - loss: 0.6729 - acc: 0.5722\n",
      "Epoch 98/1000\n",
      " - 4s - loss: 0.6729 - acc: 0.5711\n",
      "Epoch 99/1000\n",
      " - 4s - loss: 0.6729 - acc: 0.5733\n",
      "Epoch 100/1000\n",
      " - 4s - loss: 0.6728 - acc: 0.5717\n",
      "Epoch 101/1000\n",
      " - 4s - loss: 0.6728 - acc: 0.5727\n",
      "Epoch 102/1000\n",
      " - 3s - loss: 0.6727 - acc: 0.5689\n",
      "Epoch 103/1000\n",
      " - 4s - loss: 0.6727 - acc: 0.5744\n",
      "Epoch 104/1000\n",
      " - 3s - loss: 0.6727 - acc: 0.5695\n",
      "Epoch 105/1000\n",
      " - 4s - loss: 0.6727 - acc: 0.5744\n",
      "Epoch 106/1000\n",
      " - 4s - loss: 0.6727 - acc: 0.5706\n",
      "Epoch 107/1000\n",
      " - 4s - loss: 0.6726 - acc: 0.5733\n",
      "Epoch 108/1000\n",
      " - 5s - loss: 0.6725 - acc: 0.5706\n",
      "Epoch 109/1000\n",
      " - 4s - loss: 0.6725 - acc: 0.5700\n",
      "Epoch 110/1000\n",
      " - 4s - loss: 0.6725 - acc: 0.5749\n",
      "Epoch 111/1000\n",
      " - 4s - loss: 0.6725 - acc: 0.5689\n",
      "Epoch 112/1000\n",
      " - 4s - loss: 0.6724 - acc: 0.5755\n",
      "Epoch 113/1000\n",
      " - 4s - loss: 0.6723 - acc: 0.5700\n",
      "Epoch 114/1000\n",
      " - 3s - loss: 0.6723 - acc: 0.5695\n",
      "Epoch 115/1000\n",
      " - 4s - loss: 0.6723 - acc: 0.5749\n",
      "Epoch 116/1000\n",
      " - 5s - loss: 0.6723 - acc: 0.5695\n",
      "Epoch 117/1000\n",
      " - 4s - loss: 0.6722 - acc: 0.5717\n",
      "Epoch 118/1000\n",
      " - 4s - loss: 0.6722 - acc: 0.5722\n",
      "Epoch 119/1000\n",
      " - 4s - loss: 0.6722 - acc: 0.5700\n",
      "Epoch 120/1000\n",
      " - 5s - loss: 0.6721 - acc: 0.5733\n",
      "Epoch 121/1000\n",
      " - 4s - loss: 0.6721 - acc: 0.5706\n",
      "Epoch 122/1000\n",
      " - 4s - loss: 0.6720 - acc: 0.5706\n",
      "Epoch 123/1000\n",
      " - 5s - loss: 0.6720 - acc: 0.5727\n",
      "Epoch 124/1000\n",
      " - 5s - loss: 0.6720 - acc: 0.5695\n",
      "Epoch 125/1000\n",
      " - 5s - loss: 0.6719 - acc: 0.5711\n",
      "Epoch 126/1000\n",
      " - 4s - loss: 0.6719 - acc: 0.5717\n",
      "Epoch 127/1000\n",
      " - 5s - loss: 0.6719 - acc: 0.5717\n",
      "Epoch 128/1000\n",
      " - 5s - loss: 0.6718 - acc: 0.5717\n",
      "Epoch 129/1000\n",
      " - 4s - loss: 0.6718 - acc: 0.5711\n",
      "Epoch 130/1000\n",
      " - 5s - loss: 0.6718 - acc: 0.5717\n",
      "Epoch 131/1000\n",
      " - 4s - loss: 0.6717 - acc: 0.5717\n",
      "Epoch 132/1000\n",
      " - 5s - loss: 0.6717 - acc: 0.5717\n",
      "Epoch 133/1000\n",
      " - 5s - loss: 0.6717 - acc: 0.5706\n",
      "Epoch 134/1000\n",
      " - 4s - loss: 0.6716 - acc: 0.5689\n",
      "Epoch 135/1000\n",
      " - 4s - loss: 0.6716 - acc: 0.5700\n",
      "Epoch 136/1000\n",
      " - 3s - loss: 0.6716 - acc: 0.5684\n",
      "Epoch 137/1000\n",
      " - 5s - loss: 0.6715 - acc: 0.5711\n",
      "Epoch 138/1000\n",
      " - 4s - loss: 0.6715 - acc: 0.5706\n",
      "Epoch 139/1000\n",
      " - 4s - loss: 0.6714 - acc: 0.5695\n",
      "Epoch 140/1000\n",
      " - 3s - loss: 0.6714 - acc: 0.5689\n",
      "Epoch 141/1000\n",
      " - 4s - loss: 0.6714 - acc: 0.5684\n",
      "Epoch 142/1000\n",
      " - 4s - loss: 0.6713 - acc: 0.5689\n",
      "Epoch 143/1000\n",
      " - 4s - loss: 0.6713 - acc: 0.5673\n",
      "Epoch 144/1000\n",
      " - 3s - loss: 0.6713 - acc: 0.5684\n",
      "Epoch 145/1000\n",
      " - 4s - loss: 0.6712 - acc: 0.5673\n",
      "Epoch 146/1000\n",
      " - 4s - loss: 0.6712 - acc: 0.5695\n",
      "Epoch 147/1000\n",
      " - 4s - loss: 0.6712 - acc: 0.5668\n",
      "Epoch 148/1000\n",
      " - 5s - loss: 0.6711 - acc: 0.5695\n",
      "Epoch 149/1000\n",
      " - 4s - loss: 0.6711 - acc: 0.5662\n",
      "Epoch 150/1000\n",
      " - 4s - loss: 0.6711 - acc: 0.5689\n",
      "Epoch 151/1000\n",
      " - 3s - loss: 0.6710 - acc: 0.5662\n",
      "Epoch 152/1000\n",
      " - 4s - loss: 0.6710 - acc: 0.5689\n",
      "Epoch 153/1000\n",
      " - 4s - loss: 0.6710 - acc: 0.5668\n",
      "Epoch 154/1000\n",
      " - 4s - loss: 0.6710 - acc: 0.5706\n",
      "Epoch 155/1000\n",
      " - 4s - loss: 0.6710 - acc: 0.5706\n",
      "Epoch 156/1000\n",
      " - 4s - loss: 0.6710 - acc: 0.5711\n",
      "Epoch 157/1000\n",
      " - 5s - loss: 0.6709 - acc: 0.5706\n",
      "Epoch 158/1000\n",
      " - 4s - loss: 0.6708 - acc: 0.5717\n",
      "Epoch 159/1000\n",
      " - 4s - loss: 0.6708 - acc: 0.5673\n",
      "Epoch 160/1000\n",
      " - 4s - loss: 0.6707 - acc: 0.5673\n",
      "Epoch 161/1000\n",
      " - 4s - loss: 0.6707 - acc: 0.5722\n",
      "Epoch 162/1000\n",
      " - 4s - loss: 0.6707 - acc: 0.5689\n",
      "Epoch 163/1000\n",
      " - 5s - loss: 0.6707 - acc: 0.5727\n",
      "Epoch 164/1000\n",
      " - 4s - loss: 0.6706 - acc: 0.5673\n",
      "Epoch 165/1000\n",
      " - 4s - loss: 0.6706 - acc: 0.5673\n",
      "Epoch 166/1000\n",
      " - 4s - loss: 0.6706 - acc: 0.5722\n",
      "Epoch 167/1000\n",
      " - 4s - loss: 0.6706 - acc: 0.5673\n",
      "Epoch 168/1000\n",
      " - 4s - loss: 0.6705 - acc: 0.5717\n",
      "Epoch 169/1000\n",
      " - 4s - loss: 0.6705 - acc: 0.5689\n",
      "Epoch 170/1000\n",
      " - 4s - loss: 0.6704 - acc: 0.5684\n",
      "Epoch 171/1000\n",
      " - 3s - loss: 0.6704 - acc: 0.5706\n",
      "Epoch 172/1000\n",
      " - 4s - loss: 0.6704 - acc: 0.5679\n",
      "Epoch 173/1000\n",
      " - 4s - loss: 0.6704 - acc: 0.5711\n",
      "Epoch 174/1000\n",
      " - 5s - loss: 0.6703 - acc: 0.5695\n",
      "Epoch 175/1000\n",
      " - 4s - loss: 0.6703 - acc: 0.5700\n",
      "Epoch 176/1000\n",
      " - 4s - loss: 0.6703 - acc: 0.5706\n",
      "Epoch 177/1000\n",
      " - 4s - loss: 0.6702 - acc: 0.5711\n",
      "Epoch 178/1000\n",
      " - 4s - loss: 0.6702 - acc: 0.5706\n",
      "Epoch 179/1000\n",
      " - 4s - loss: 0.6702 - acc: 0.5711\n",
      "Epoch 180/1000\n",
      " - 4s - loss: 0.6701 - acc: 0.5700\n",
      "Epoch 181/1000\n",
      " - 4s - loss: 0.6701 - acc: 0.5695\n",
      "Epoch 182/1000\n",
      " - 4s - loss: 0.6701 - acc: 0.5695\n",
      "Epoch 183/1000\n",
      " - 4s - loss: 0.6701 - acc: 0.5706\n",
      "Epoch 184/1000\n",
      " - 4s - loss: 0.6700 - acc: 0.5711\n",
      "Epoch 185/1000\n",
      " - 5s - loss: 0.6700 - acc: 0.5722\n",
      "Epoch 186/1000\n",
      " - 4s - loss: 0.6700 - acc: 0.5722\n",
      "Epoch 187/1000\n",
      " - 4s - loss: 0.6699 - acc: 0.5733\n",
      "Epoch 188/1000\n",
      " - 4s - loss: 0.6699 - acc: 0.5717\n",
      "Epoch 189/1000\n",
      " - 4s - loss: 0.6699 - acc: 0.5727\n",
      "Epoch 190/1000\n",
      " - 4s - loss: 0.6698 - acc: 0.5711\n",
      "Epoch 191/1000\n",
      " - 4s - loss: 0.6698 - acc: 0.5733\n",
      "Epoch 192/1000\n",
      " - 4s - loss: 0.6698 - acc: 0.5711\n",
      "Epoch 193/1000\n",
      " - 5s - loss: 0.6698 - acc: 0.5727\n",
      "Epoch 194/1000\n",
      " - 4s - loss: 0.6697 - acc: 0.5711\n",
      "Epoch 195/1000\n",
      " - 4s - loss: 0.6697 - acc: 0.5717\n",
      "Epoch 196/1000\n",
      " - 4s - loss: 0.6697 - acc: 0.5717\n",
      "Epoch 197/1000\n",
      " - 4s - loss: 0.6696 - acc: 0.5722\n",
      "Epoch 198/1000\n",
      " - 4s - loss: 0.6696 - acc: 0.5727\n",
      "Epoch 199/1000\n",
      " - 4s - loss: 0.6696 - acc: 0.5722\n",
      "Epoch 200/1000\n",
      " - 4s - loss: 0.6695 - acc: 0.5738\n",
      "Epoch 201/1000\n",
      " - 4s - loss: 0.6695 - acc: 0.5717\n",
      "Epoch 202/1000\n",
      " - 4s - loss: 0.6695 - acc: 0.5765\n",
      "Epoch 203/1000\n",
      " - 4s - loss: 0.6695 - acc: 0.5738\n",
      "Epoch 204/1000\n",
      " - 4s - loss: 0.6695 - acc: 0.5787\n",
      "Epoch 205/1000\n",
      " - 4s - loss: 0.6696 - acc: 0.5760\n",
      "Epoch 206/1000\n",
      " - 5s - loss: 0.6698 - acc: 0.5711\n",
      "Epoch 207/1000\n",
      " - 4s - loss: 0.6698 - acc: 0.5793\n",
      "Epoch 208/1000\n",
      " - 4s - loss: 0.6695 - acc: 0.5744\n",
      "Epoch 209/1000\n",
      " - 5s - loss: 0.6693 - acc: 0.5771\n",
      "Epoch 210/1000\n",
      " - 4s - loss: 0.6695 - acc: 0.5782\n",
      "Epoch 211/1000\n",
      " - 4s - loss: 0.6695 - acc: 0.5727\n",
      "Epoch 212/1000\n",
      " - 4s - loss: 0.6692 - acc: 0.5738\n",
      "Epoch 213/1000\n"
     ]
    }
   ],
   "source": [
    "history = model.fit(training, Y_train.values, epochs = 1000, batch_size = len(training), verbose = 2)"
   ]
  },
  {
   "cell_type": "code",
   "execution_count": 63,
   "metadata": {
    "collapsed": true
   },
   "outputs": [],
   "source": [
    "loss = model.evaluate(training, Y_train.values, verbose = 2)"
   ]
  },
  {
   "cell_type": "code",
   "execution_count": 66,
   "metadata": {
    "collapsed": false
   },
   "outputs": [],
   "source": [
    "predictions = model.predict(testing, verbose = 2)"
   ]
  },
  {
   "cell_type": "code",
   "execution_count": 69,
   "metadata": {
    "collapsed": false
   },
   "outputs": [],
   "source": [
    "preds = predictions.round()"
   ]
  },
  {
   "cell_type": "code",
   "execution_count": 70,
   "metadata": {
    "collapsed": false
   },
   "outputs": [
    {
     "data": {
      "text/plain": [
       "array([[ 1.],\n",
       "       [ 1.],\n",
       "       [ 1.],\n",
       "       [ 0.],\n",
       "       [ 0.],\n",
       "       [ 0.],\n",
       "       [ 0.],\n",
       "       [ 0.],\n",
       "       [ 0.],\n",
       "       [ 1.]], dtype=float32)"
      ]
     },
     "execution_count": 70,
     "metadata": {},
     "output_type": "execute_result"
    }
   ],
   "source": [
    "preds"
   ]
  },
  {
   "cell_type": "code",
   "execution_count": 74,
   "metadata": {
    "collapsed": false
   },
   "outputs": [
    {
     "data": {
      "text/plain": [
       "0.5"
      ]
     },
     "execution_count": 74,
     "metadata": {},
     "output_type": "execute_result"
    }
   ],
   "source": [
    "accuracy_score(preds, test_label)"
   ]
  },
  {
   "cell_type": "code",
   "execution_count": null,
   "metadata": {
    "collapsed": true
   },
   "outputs": [],
   "source": []
  }
 ],
 "metadata": {
  "kernelspec": {
   "display_name": "Python 3",
   "language": "python",
   "name": "python3"
  },
  "language_info": {
   "codemirror_mode": {
    "name": "ipython",
    "version": 3
   },
   "file_extension": ".py",
   "mimetype": "text/x-python",
   "name": "python",
   "nbconvert_exporter": "python",
   "pygments_lexer": "ipython3",
   "version": "3.6.0"
  }
 },
 "nbformat": 4,
 "nbformat_minor": 2
}
